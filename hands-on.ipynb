{
 "cells": [
  {
   "cell_type": "code",
   "execution_count": 2,
   "metadata": {},
   "outputs": [
    {
     "name": "stdout",
     "output_type": "stream",
     "text": [
      "Document 1:\n",
      "Total number of words: 15\n",
      "Word                TF        IDF            TF-IDF    \n",
      "-------------------------------------------------------\n",
      "trường              0.0667    -0.4055        -0.0270   \n",
      "đại                 0.0667    -0.4055        -0.0270   \n",
      "học                 0.0667    -0.4055        -0.0270   \n",
      "công                0.0667    -0.4055        -0.0270   \n",
      "nghệ                0.0667    -0.4055        -0.0270   \n",
      "thông               0.0667    -0.4055        -0.0270   \n",
      "tin                 0.0667    -0.4055        -0.0270   \n",
      "dhqg                0.0667    -0.4055        -0.0270   \n",
      "tp.hcm              0.0667    -0.4055        -0.0270   \n",
      "được                0.0667    0.0000         0.0000    \n",
      "thành               0.0667    -0.4055        -0.0270   \n",
      "lập                 0.0667    0.0000         0.0000    \n",
      "từ                  0.0667    0.0000         0.0000    \n",
      "khi                 0.0667    0.0000         0.0000    \n",
      "nào?                0.0667    0.0000         0.0000    \n",
      "\n",
      "Document 2:\n",
      "Total number of words: 22\n",
      "Word                TF        IDF            TF-IDF    \n",
      "-------------------------------------------------------\n",
      "trường              0.0455    -0.4055        -0.0184   \n",
      "uit                 0.0455    0.0000         0.0000    \n",
      "đại                 0.0455    -0.4055        -0.0184   \n",
      "học                 0.0455    -0.4055        -0.0184   \n",
      "công                0.0455    -0.4055        -0.0184   \n",
      "nghệ                0.0455    -0.4055        -0.0184   \n",
      "thông               0.0455    -0.4055        -0.0184   \n",
      "tin                 0.0455    -0.4055        -0.0184   \n",
      "dhqg                0.0455    -0.4055        -0.0184   \n",
      "tp.hcm              0.0455    -0.4055        -0.0184   \n",
      "có                  0.0455    0.0000         0.0000    \n",
      "những               0.0455    0.0000         0.0000    \n",
      "thành               0.0455    -0.4055        -0.0184   \n",
      "tựu                 0.0455    0.0000         0.0000    \n",
      "gì                  0.0455    0.0000         0.0000    \n",
      "nổi                 0.0455    0.0000         0.0000    \n",
      "bật                 0.0455    0.0000         0.0000    \n",
      "trong               0.0455    0.0000         0.0000    \n",
      "lĩnh                0.0455    0.0000         0.0000    \n",
      "vực                 0.0455    0.0000         0.0000    \n",
      "đào                 0.0455    0.0000         0.0000    \n",
      "tạo?                0.0455    0.0000         0.0000    \n",
      "\n"
     ]
    }
   ],
   "source": [
    "import math\n",
    "from collections import Counter\n",
    "\n",
    "# Sample corpus\n",
    "corpus = [\n",
    "    \"trường đại học công nghệ thông tin dhqg tp hcm được thành lập từ khi nào?\",\n",
    "    \"trường uit đại học công nghệ thông tin dhqg tp hcm có những thành tựu gì nổi bật trong lĩnh vực đào tạo?\"\n",
    "]\n",
    "\n",
    "# Function to compute term frequency for a document\n",
    "def compute_tf(document):\n",
    "    words = document.split()\n",
    "    total_words = len(words)\n",
    "    tf = Counter(words)\n",
    "    for word in tf:\n",
    "        tf[word] /= total_words\n",
    "    return tf, total_words\n",
    "\n",
    "# Function to compute inverse document frequency for the corpus\n",
    "def compute_idf(corpus):\n",
    "    num_documents = len(corpus)\n",
    "    idf = {}\n",
    "    all_words = set(word for doc in corpus for word in doc.split())\n",
    "    for word in all_words:\n",
    "        containing_docs = sum(1 for doc in corpus if word in doc.split())\n",
    "        idf[word] = math.log(num_documents / (1 + containing_docs))\n",
    "    return idf\n",
    "\n",
    "# Function to compute TF-IDF for a document\n",
    "def compute_tfidf(tf, idf):\n",
    "    tfidf = {}\n",
    "    for word, tf_value in tf.items():\n",
    "        tfidf[word] = tf_value * idf.get(word, 0)\n",
    "    return tfidf\n",
    "\n",
    "# Compute IDF for the entire corpus\n",
    "idf = compute_idf(corpus)\n",
    "\n",
    "# Compute TF, IDF, and TF-IDF for each document\n",
    "for i, document in enumerate(corpus):\n",
    "    tf, total_words = compute_tf(document)\n",
    "    tfidf = compute_tfidf(tf, idf)\n",
    "    print(f\"Document {i+1}:\")\n",
    "    print(f\"Total number of words: {total_words}\")\n",
    "    print(f\"{'Word':<20}{'TF':<10}{'IDF':<15}{'TF-IDF':<10}\")\n",
    "    print(\"-\" * 55)\n",
    "    for word in tf:\n",
    "        tf_value = tf[word]\n",
    "        idf_value = idf.get(word, 0)\n",
    "        tfidf_value = tfidf[word]\n",
    "        print(f\"{word:<20}{tf_value:<10.4f}{idf_value:<15.4f}{tfidf_value:<10.4f}\")\n",
    "    print()\n"
   ]
  },
  {
   "cell_type": "code",
   "execution_count": null,
   "metadata": {},
   "outputs": [],
   "source": [
    "Câu hỏi\tbật\tcó\tcông\tdhqg\tgì\thcm\thọc\tkhi\tlĩnh\tlập\tnghệ\tnhững\tnào\tnổi\tthành\tthông\ttin\ttp\ttrong\ttrường\ttạo\ttừ\ttựu\tuit\tvực\tđào\tđược\tđại\n",
    "trường đại học công nghệ thông tin dhqg tp.hcm được thành lập từ khi nào?\t0.0\t0.0\t0.21886155573996818\t0.21886155573996818\t0.0\t0.21886155573996818\t0.21886155573996818\t0.3076022800987954\t0.0\t0.3076022800987954\t0.21886155573996818\t0.0\t0.3076022800987954\t0.0\t0.21886155573996818\t0.21886155573996818\t0.21886155573996818\t0.21886155573996818\t0.0\t0.21886155573996818\t0.0\t0.3076022800987954\t0.0\t0.0\t0.0\t0.0\t0.3076022800987954\t0.21886155573996818\n",
    "trường uit đại học công nghệ thông tin dhqg tp.hcm có những thành tựu gì nổi bật trong lĩnh vực đào tạo?\t0.23857799712952948\t0.23857799712952948\t0.16975020991497183\t0.16975020991497183\t0.23857799712952948\t0.16975020991497183\t0.16975020991497183\t0.0\t0.23857799712952948\t0.0\t0.16975020991497183\t0.23857799712952948\t0.0\t0.23857799712952948\t0.16975020991497183\t0.16975020991497183\t0.16975020991497183\t0.16975020991497183\t0.23857799712952948\t0.16975020991497183\t0.23857799712952948\t0.0\t0.23857799712952948\t0.23857799712952948\t0.23857799712952948\t0.23857799712952948\t0.0\t0.16975020991497183"
   ]
  },
  {
   "cell_type": "code",
   "execution_count": 4,
   "metadata": {},
   "outputs": [
    {
     "name": "stdout",
     "output_type": "stream",
     "text": [
      "(2, 28)\n"
     ]
    }
   ],
   "source": [
    "from sklearn.feature_extraction.text import TfidfVectorizer\n",
    "\n",
    "corpus = [\n",
    "    \"trường đại học công nghệ thông tin dhqg tp.hcm được thành lập từ khi nào?\",\n",
    "    \"trường uit đại học công nghệ thông tin dhqg tp.hcm có những thành tựu gì nổi bật trong lĩnh vực đào tạo?\",\n",
    "]\n",
    "\n",
    "vectorizer = TfidfVectorizer()\n",
    "tfidf_matrix = vectorizer.fit_transform(corpus)\n",
    "\n",
    "print(tfidf_matrix.shape)\n"
   ]
  },
  {
   "cell_type": "code",
   "execution_count": 5,
   "metadata": {},
   "outputs": [
    {
     "name": "stdout",
     "output_type": "stream",
     "text": [
      "{'trường': 19, 'đại': 27, 'học': 6, 'công': 2, 'nghệ': 10, 'thông': 15, 'tin': 16, 'dhqg': 3, 'tp': 17, 'hcm': 5, 'được': 26, 'thành': 14, 'lập': 9, 'từ': 21, 'khi': 7, 'nào': 12, 'uit': 23, 'có': 1, 'những': 11, 'tựu': 22, 'gì': 4, 'nổi': 13, 'bật': 0, 'trong': 18, 'lĩnh': 8, 'vực': 24, 'đào': 25, 'tạo': 20}\n"
     ]
    }
   ],
   "source": [
    "print(vectorizer.vocabulary_)"
   ]
  },
  {
   "cell_type": "code",
   "execution_count": null,
   "metadata": {},
   "outputs": [],
   "source": [
    "print(vectorizer.vocabulary_)"
   ]
  },
  {
   "cell_type": "code",
   "execution_count": 6,
   "metadata": {},
   "outputs": [
    {
     "name": "stdout",
     "output_type": "stream",
     "text": [
      "[[0.         0.         0.21886156 0.21886156 0.         0.21886156\n",
      "  0.21886156 0.30760228 0.         0.30760228 0.21886156 0.\n",
      "  0.30760228 0.         0.21886156 0.21886156 0.21886156 0.21886156\n",
      "  0.         0.21886156 0.         0.30760228 0.         0.\n",
      "  0.         0.         0.30760228 0.21886156]\n",
      " [0.238578   0.238578   0.16975021 0.16975021 0.238578   0.16975021\n",
      "  0.16975021 0.         0.238578   0.         0.16975021 0.238578\n",
      "  0.         0.238578   0.16975021 0.16975021 0.16975021 0.16975021\n",
      "  0.238578   0.16975021 0.238578   0.         0.238578   0.238578\n",
      "  0.238578   0.238578   0.         0.16975021]]\n"
     ]
    }
   ],
   "source": [
    "print(tfidf_matrix.toarray())"
   ]
  },
  {
   "cell_type": "code",
   "execution_count": 7,
   "metadata": {},
   "outputs": [],
   "source": [
    "corpus = [\n",
    "    \"trường đại học công nghệ thông tin dhqg tp.hcm được thành lập từ khi nào?\",\n",
    "    \"trường uit đại học công nghệ thông tin dhqg tp.hcm có những thành tựu gì nổi bật trong lĩnh vực đào tạo?\",\n",
    "]"
   ]
  },
  {
   "cell_type": "code",
   "execution_count": 8,
   "metadata": {},
   "outputs": [
    {
     "name": "stdout",
     "output_type": "stream",
     "text": [
      "Counter({'trường': 2, 'đại': 2, 'học': 2, 'công': 2, 'nghệ': 2, 'thông': 2, 'tin': 2, 'dhqg': 2, 'tp.hcm': 2, 'thành': 2, 'được': 1, 'lập': 1, 'từ': 1, 'khi': 1, 'nào?': 1, 'uit': 1, 'có': 1, 'những': 1, 'tựu': 1, 'gì': 1, 'nổi': 1, 'bật': 1, 'trong': 1, 'lĩnh': 1, 'vực': 1, 'đào': 1, 'tạo?': 1})\n"
     ]
    }
   ],
   "source": [
    "import collections\n",
    "\n",
    "def build_vocabulary(corpus):\n",
    "    vocabulary = collections.Counter()\n",
    "    for doc in corpus:\n",
    "        vocabulary.update(doc.lower().split())\n",
    "    return vocabulary\n",
    "\n",
    "vocabulary = build_vocabulary(corpus)\n",
    "print(vocabulary)"
   ]
  },
  {
   "cell_type": "code",
   "execution_count": 9,
   "metadata": {},
   "outputs": [
    {
     "name": "stdout",
     "output_type": "stream",
     "text": [
      "[[1, 1, 1, 1, 1, 1, 1, 1, 1, 1, 1, 1, 1, 1, 1, 0, 0, 0, 0, 0, 0, 0, 0, 0, 0, 0, 0], [1, 1, 1, 1, 1, 1, 1, 1, 1, 0, 1, 0, 0, 0, 0, 1, 1, 1, 1, 1, 1, 1, 1, 1, 1, 1, 1]]\n"
     ]
    }
   ],
   "source": [
    "tf_matrix = []\n",
    "for doc in corpus:\n",
    "    tf_counter = collections.Counter(doc.lower().split())\n",
    "    tf_matrix.append([tf_counter[word] for word in vocabulary])\n",
    "\n",
    "print(tf_matrix)"
   ]
  },
  {
   "cell_type": "code",
   "execution_count": 10,
   "metadata": {},
   "outputs": [
    {
     "name": "stdout",
     "output_type": "stream",
     "text": [
      "{'trường': 1.0, 'đại': 1.0, 'học': 1.0, 'công': 1.0, 'nghệ': 1.0, 'thông': 1.0, 'tin': 1.0, 'dhqg': 1.0, 'tp.hcm': 1.0, 'được': 1.4054651081081644, 'thành': 1.0, 'lập': 1.4054651081081644, 'từ': 1.4054651081081644, 'khi': 1.4054651081081644, 'nào?': 1.4054651081081644, 'uit': 1.4054651081081644, 'có': 1.4054651081081644, 'những': 1.4054651081081644, 'tựu': 1.4054651081081644, 'gì': 1.4054651081081644, 'nổi': 1.4054651081081644, 'bật': 1.4054651081081644, 'trong': 1.4054651081081644, 'lĩnh': 1.4054651081081644, 'vực': 1.4054651081081644, 'đào': 1.4054651081081644, 'tạo?': 1.4054651081081644}\n"
     ]
    }
   ],
   "source": [
    "import math\n",
    "\n",
    "def calculate_idf(corpus, unique_words):\n",
    "    idf_dict = {}\n",
    "    N = len(corpus)\n",
    "    for word in unique_words:\n",
    "        count = sum(1 for doc in corpus if word in doc.lower().split())\n",
    "        idf_dict[word] = math.log((N+1) / (count+1)) + 1\n",
    "    return idf_dict\n",
    "\n",
    "idf_dict = calculate_idf(corpus, vocabulary)\n",
    "print(idf_dict)"
   ]
  },
  {
   "cell_type": "code",
   "execution_count": 11,
   "metadata": {},
   "outputs": [
    {
     "name": "stdout",
     "output_type": "stream",
     "text": [
      "[[1.0, 1.0, 1.0, 1.0, 1.0, 1.0, 1.0, 1.0, 1.0, 1.4054651081081644, 1.0, 1.4054651081081644, 1.4054651081081644, 1.4054651081081644, 1.4054651081081644, 0.0, 0.0, 0.0, 0.0, 0.0, 0.0, 0.0, 0.0, 0.0, 0.0, 0.0, 0.0], [1.0, 1.0, 1.0, 1.0, 1.0, 1.0, 1.0, 1.0, 1.0, 0.0, 1.0, 0.0, 0.0, 0.0, 0.0, 1.4054651081081644, 1.4054651081081644, 1.4054651081081644, 1.4054651081081644, 1.4054651081081644, 1.4054651081081644, 1.4054651081081644, 1.4054651081081644, 1.4054651081081644, 1.4054651081081644, 1.4054651081081644, 1.4054651081081644]]\n"
     ]
    }
   ],
   "source": [
    "tfidf_matrix = []\n",
    "for tf_vector in tf_matrix:\n",
    "    tfidf_vector = [a*b for a,b in zip(tf_vector, idf_dict.values())]\n",
    "    tfidf_matrix.append(tfidf_vector)\n",
    "\n",
    "print(tfidf_matrix)    "
   ]
  },
  {
   "cell_type": "code",
   "execution_count": 12,
   "metadata": {},
   "outputs": [
    {
     "name": "stdout",
     "output_type": "stream",
     "text": [
      "[[0.22429949 0.22429949 0.22429949 0.22429949 0.22429949 0.22429949\n",
      "  0.22429949 0.22429949 0.22429949 0.31524511 0.22429949 0.31524511\n",
      "  0.31524511 0.31524511 0.31524511 0.         0.         0.\n",
      "  0.         0.         0.         0.         0.         0.\n",
      "  0.         0.         0.        ]\n",
      " [0.17225005 0.17225005 0.17225005 0.17225005 0.17225005 0.17225005\n",
      "  0.17225005 0.17225005 0.17225005 0.         0.17225005 0.\n",
      "  0.         0.         0.         0.24209144 0.24209144 0.24209144\n",
      "  0.24209144 0.24209144 0.24209144 0.24209144 0.24209144 0.24209144\n",
      "  0.24209144 0.24209144 0.24209144]]\n"
     ]
    }
   ],
   "source": [
    "import numpy as np\n",
    "\n",
    "def l2_normalize(tfidf_matrix):\n",
    "    norms = np.linalg.norm(tfidf_matrix, axis=1, keepdims=True)\n",
    "    return tfidf_matrix / norms\n",
    "\n",
    "normalized_tfidf = l2_normalize(np.array(tfidf_matrix))\n",
    "print(normalized_tfidf)"
   ]
  }
 ],
 "metadata": {
  "kernelspec": {
   "display_name": "Python 3",
   "language": "python",
   "name": "python3"
  },
  "language_info": {
   "codemirror_mode": {
    "name": "ipython",
    "version": 3
   },
   "file_extension": ".py",
   "mimetype": "text/x-python",
   "name": "python",
   "nbconvert_exporter": "python",
   "pygments_lexer": "ipython3",
   "version": "3.12.5"
  }
 },
 "nbformat": 4,
 "nbformat_minor": 2
}
